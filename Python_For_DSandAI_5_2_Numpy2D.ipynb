{
  "nbformat": 4,
  "nbformat_minor": 0,
  "metadata": {
    "kernelspec": {
      "display_name": "Python 3",
      "language": "python",
      "name": "python3"
    },
    "language_info": {
      "codemirror_mode": {
        "name": "ipython",
        "version": 3
      },
      "file_extension": ".py",
      "mimetype": "text/x-python",
      "name": "python",
      "nbconvert_exporter": "python",
      "pygments_lexer": "ipython3",
      "version": "3.6.6"
    },
    "colab": {
      "name": "Python_For_DSandAI_5-2-Numpy2D.ipynb",
      "provenance": [],
      "collapsed_sections": [],
      "include_colab_link": true
    }
  },
  "cells": [
    {
      "cell_type": "markdown",
      "metadata": {
        "id": "view-in-github",
        "colab_type": "text"
      },
      "source": [
        "<a href=\"https://colab.research.google.com/github/ornob39/Python_For_DataScience_AI-IBM/blob/master/Python_For_DSandAI_5_2_Numpy2D.ipynb\" target=\"_parent\"><img src=\"https://colab.research.google.com/assets/colab-badge.svg\" alt=\"Open In Colab\"/></a>"
      ]
    },
    {
      "cell_type": "markdown",
      "metadata": {
        "id": "cpbkmiCidxnV",
        "colab_type": "text"
      },
      "source": [
        "<div class=\"alert alert-block alert-info\" style=\"margin-top: 20px\">\n",
        "    <a href=\"https://cocl.us/topNotebooksPython101Coursera\">\n",
        "         <img src=\"https://s3-api.us-geo.objectstorage.softlayer.net/cf-courses-data/CognitiveClass/PY0101EN/Ad/TopAd.png\" width=\"750\" align=\"center\">\n",
        "    </a>\n",
        "</div>"
      ]
    },
    {
      "cell_type": "markdown",
      "metadata": {
        "id": "AsWjOcHvdxnW",
        "colab_type": "text"
      },
      "source": [
        "<a href=\"https://cognitiveclass.ai/\">\n",
        "    <img src=\"https://s3-api.us-geo.objectstorage.softlayer.net/cf-courses-data/CognitiveClass/PY0101EN/Ad/CCLog.png\" width=\"200\" align=\"center\">\n",
        "</a>"
      ]
    },
    {
      "cell_type": "markdown",
      "metadata": {
        "id": "L37bLPX2dxnX",
        "colab_type": "text"
      },
      "source": [
        "<h1>2D <code>Numpy</code> in Python</h1>"
      ]
    },
    {
      "cell_type": "markdown",
      "metadata": {
        "id": "GoLoDDVLdxnY",
        "colab_type": "text"
      },
      "source": [
        "<p><strong>Welcome!</strong> This notebook will teach you about using <code>Numpy</code> in the Python Programming Language. By the end of this lab, you'll know what <code>Numpy</code> is and the <code>Numpy</code> operations.</p>"
      ]
    },
    {
      "cell_type": "markdown",
      "metadata": {
        "id": "vgRMmZsKdxnZ",
        "colab_type": "text"
      },
      "source": [
        "<h2>Table of Contents</h2>\n",
        "<div class=\"alert alert-block alert-info\" style=\"margin-top: 20px\">\n",
        "    <ul>\n",
        "        <li><a href=\"create\">Create a 2D Numpy Array</a></li>\n",
        "        <li><a href=\"access\">Accessing different elements of a Numpy Array</a></li>\n",
        "        <li><a href=\"op\">Basic Operations</a></li>\n",
        "    </ul>\n",
        "    <p>\n",
        "        Estimated time needed: <strong>20 min</strong>\n",
        "    </p>\n",
        "</div>\n",
        "\n",
        "<hr>"
      ]
    },
    {
      "cell_type": "markdown",
      "metadata": {
        "id": "ChX3Voivdxna",
        "colab_type": "text"
      },
      "source": [
        "<h2 id=\"create\">Create a 2D Numpy Array</h2>"
      ]
    },
    {
      "cell_type": "code",
      "metadata": {
        "id": "pfXPL5Badxna",
        "colab_type": "code",
        "colab": {}
      },
      "source": [
        "# Import the libraries\n",
        "\n",
        "import numpy as np \n",
        "import matplotlib.pyplot as plt"
      ],
      "execution_count": 1,
      "outputs": []
    },
    {
      "cell_type": "markdown",
      "metadata": {
        "id": "i9ZJdeGYdxne",
        "colab_type": "text"
      },
      "source": [
        "Consider the list <code>a</code>, the list contains three nested lists **each of equal size**. "
      ]
    },
    {
      "cell_type": "code",
      "metadata": {
        "id": "mHmmNO02dxnf",
        "colab_type": "code",
        "colab": {
          "base_uri": "https://localhost:8080/",
          "height": 36
        },
        "outputId": "f425f02d-aa54-43f5-8439-ee9b809e4b5e"
      },
      "source": [
        "# Create a list\n",
        "\n",
        "a = [[11, 12, 13], [21, 22, 23], [31, 32, 33]]\n",
        "a"
      ],
      "execution_count": 2,
      "outputs": [
        {
          "output_type": "execute_result",
          "data": {
            "text/plain": [
              "[[11, 12, 13], [21, 22, 23], [31, 32, 33]]"
            ]
          },
          "metadata": {
            "tags": []
          },
          "execution_count": 2
        }
      ]
    },
    {
      "cell_type": "markdown",
      "metadata": {
        "id": "lZ1zsKeedxni",
        "colab_type": "text"
      },
      "source": [
        "We can cast the list to a Numpy Array as follow"
      ]
    },
    {
      "cell_type": "code",
      "metadata": {
        "id": "F4qfrhzzdxnj",
        "colab_type": "code",
        "colab": {
          "base_uri": "https://localhost:8080/",
          "height": 74
        },
        "outputId": "8f1f88c5-cd6a-45d7-dc96-b573f4d291ab"
      },
      "source": [
        "# Convert list to Numpy Array\n",
        "# Every element is the same type\n",
        "\n",
        "A = np.array(a)\n",
        "A"
      ],
      "execution_count": 3,
      "outputs": [
        {
          "output_type": "execute_result",
          "data": {
            "text/plain": [
              "array([[11, 12, 13],\n",
              "       [21, 22, 23],\n",
              "       [31, 32, 33]])"
            ]
          },
          "metadata": {
            "tags": []
          },
          "execution_count": 3
        }
      ]
    },
    {
      "cell_type": "markdown",
      "metadata": {
        "id": "L1G3qMSbdxnl",
        "colab_type": "text"
      },
      "source": [
        "We can use the attribute <code>ndim</code> to obtain the number of axes or dimensions referred to as the rank. "
      ]
    },
    {
      "cell_type": "code",
      "metadata": {
        "id": "nZt_7u4Zdxnm",
        "colab_type": "code",
        "colab": {
          "base_uri": "https://localhost:8080/",
          "height": 36
        },
        "outputId": "914ca3fc-63b9-4ca7-d722-feceacb7f57e"
      },
      "source": [
        "# Show the numpy array dimensions\n",
        "\n",
        "A.ndim"
      ],
      "execution_count": 4,
      "outputs": [
        {
          "output_type": "execute_result",
          "data": {
            "text/plain": [
              "2"
            ]
          },
          "metadata": {
            "tags": []
          },
          "execution_count": 4
        }
      ]
    },
    {
      "cell_type": "markdown",
      "metadata": {
        "id": "6hU3JE5Gdxnr",
        "colab_type": "text"
      },
      "source": [
        "Attribute <code>shape</code> returns a tuple corresponding to the size or number of each dimension."
      ]
    },
    {
      "cell_type": "code",
      "metadata": {
        "id": "phvKTNMrdxns",
        "colab_type": "code",
        "colab": {
          "base_uri": "https://localhost:8080/",
          "height": 36
        },
        "outputId": "28998ff7-4366-4066-d8dc-495a586662d9"
      },
      "source": [
        "# Show the numpy array shape\n",
        "\n",
        "A.shape"
      ],
      "execution_count": 5,
      "outputs": [
        {
          "output_type": "execute_result",
          "data": {
            "text/plain": [
              "(3, 3)"
            ]
          },
          "metadata": {
            "tags": []
          },
          "execution_count": 5
        }
      ]
    },
    {
      "cell_type": "markdown",
      "metadata": {
        "id": "iUGRA3aydxnw",
        "colab_type": "text"
      },
      "source": [
        "The total number of elements in the array is given by the attribute <code>size</code>."
      ]
    },
    {
      "cell_type": "code",
      "metadata": {
        "id": "XKD8qjTRdxnw",
        "colab_type": "code",
        "colab": {
          "base_uri": "https://localhost:8080/",
          "height": 36
        },
        "outputId": "5a69d224-9fa6-4e83-8c3b-41370b3261df"
      },
      "source": [
        "# Show the numpy array size\n",
        "\n",
        "A.size"
      ],
      "execution_count": 6,
      "outputs": [
        {
          "output_type": "execute_result",
          "data": {
            "text/plain": [
              "9"
            ]
          },
          "metadata": {
            "tags": []
          },
          "execution_count": 6
        }
      ]
    },
    {
      "cell_type": "markdown",
      "metadata": {
        "id": "N06Thljudxnz",
        "colab_type": "text"
      },
      "source": [
        "<hr>"
      ]
    },
    {
      "cell_type": "markdown",
      "metadata": {
        "id": "ZAyg1jSrdxn0",
        "colab_type": "text"
      },
      "source": [
        "<h2 id=\"access\">Accessing different elements of a Numpy Array</h2>"
      ]
    },
    {
      "cell_type": "markdown",
      "metadata": {
        "id": "d3NH20Izdxn0",
        "colab_type": "text"
      },
      "source": [
        "We can use rectangular brackets to access the different elements of the array. The correspondence between the rectangular brackets and the list and the rectangular representation is shown in the following figure for a 3x3 array:  "
      ]
    },
    {
      "cell_type": "markdown",
      "metadata": {
        "id": "1IHh6zBBdxn1",
        "colab_type": "text"
      },
      "source": [
        "<img src=\"https://s3-api.us-geo.objectstorage.softlayer.net/cf-courses-data/CognitiveClass/PY0101EN/Chapter%205/Images/NumTwoEg.png\" width=\"500\" />"
      ]
    },
    {
      "cell_type": "markdown",
      "metadata": {
        "id": "zXFxpsPcdxn1",
        "colab_type": "text"
      },
      "source": [
        "We can access the 2nd-row 3rd column as shown in the following figure:"
      ]
    },
    {
      "cell_type": "markdown",
      "metadata": {
        "id": "OBUe1gwGdxn2",
        "colab_type": "text"
      },
      "source": [
        "<img src=\"https://s3-api.us-geo.objectstorage.softlayer.net/cf-courses-data/CognitiveClass/PY0101EN/Chapter%205/Images/NumTwoFT.png\" width=\"400\" />"
      ]
    },
    {
      "cell_type": "markdown",
      "metadata": {
        "id": "5zzs6gyzdxn2",
        "colab_type": "text"
      },
      "source": [
        " We simply use the square brackets and the indices corresponding to the element we would like:"
      ]
    },
    {
      "cell_type": "code",
      "metadata": {
        "id": "U8-PqE2udxn3",
        "colab_type": "code",
        "colab": {
          "base_uri": "https://localhost:8080/",
          "height": 36
        },
        "outputId": "12f4b92c-63ff-4e21-f667-6eb417f2a898"
      },
      "source": [
        "# Access the element on the second row and third column\n",
        "\n",
        "A[1, 2]"
      ],
      "execution_count": 7,
      "outputs": [
        {
          "output_type": "execute_result",
          "data": {
            "text/plain": [
              "23"
            ]
          },
          "metadata": {
            "tags": []
          },
          "execution_count": 7
        }
      ]
    },
    {
      "cell_type": "markdown",
      "metadata": {
        "id": "SESDOYZ8dxn7",
        "colab_type": "text"
      },
      "source": [
        " We can also use the following notation to obtain the elements: "
      ]
    },
    {
      "cell_type": "code",
      "metadata": {
        "id": "4SbItRdIdxn7",
        "colab_type": "code",
        "colab": {
          "base_uri": "https://localhost:8080/",
          "height": 36
        },
        "outputId": "b2925012-82be-468c-b4ef-028c40b41cf5"
      },
      "source": [
        "# Access the element on the second row and third column\n",
        "\n",
        "A[1][2]"
      ],
      "execution_count": 8,
      "outputs": [
        {
          "output_type": "execute_result",
          "data": {
            "text/plain": [
              "23"
            ]
          },
          "metadata": {
            "tags": []
          },
          "execution_count": 8
        }
      ]
    },
    {
      "cell_type": "markdown",
      "metadata": {
        "id": "PRDe20sedxn_",
        "colab_type": "text"
      },
      "source": [
        " Consider the elements shown in the following figure "
      ]
    },
    {
      "cell_type": "markdown",
      "metadata": {
        "id": "bHn-rpOCdxoA",
        "colab_type": "text"
      },
      "source": [
        "<img src=\"https://s3-api.us-geo.objectstorage.softlayer.net/cf-courses-data/CognitiveClass/PY0101EN/Chapter%205/Images/NumTwoFF.png\" width=\"400\" />"
      ]
    },
    {
      "cell_type": "markdown",
      "metadata": {
        "id": "KTtsly_QdxoA",
        "colab_type": "text"
      },
      "source": [
        "We can access the element as follows "
      ]
    },
    {
      "cell_type": "code",
      "metadata": {
        "id": "pyHaBn6CdxoB",
        "colab_type": "code",
        "colab": {
          "base_uri": "https://localhost:8080/",
          "height": 36
        },
        "outputId": "52121d2e-8ee3-42bb-af16-c4f176d02295"
      },
      "source": [
        "# Access the element on the first row and first column\n",
        "\n",
        "A[0][0]"
      ],
      "execution_count": 9,
      "outputs": [
        {
          "output_type": "execute_result",
          "data": {
            "text/plain": [
              "11"
            ]
          },
          "metadata": {
            "tags": []
          },
          "execution_count": 9
        }
      ]
    },
    {
      "cell_type": "markdown",
      "metadata": {
        "id": "haLThCA4dxoD",
        "colab_type": "text"
      },
      "source": [
        "We can also use slicing in numpy arrays. Consider the following figure. We would like to obtain the first two columns in the first row"
      ]
    },
    {
      "cell_type": "markdown",
      "metadata": {
        "id": "h2SifV0JdxoE",
        "colab_type": "text"
      },
      "source": [
        "<img src=\"https://s3-api.us-geo.objectstorage.softlayer.net/cf-courses-data/CognitiveClass/PY0101EN/Chapter%205/Images/NumTwoFSF.png\" width=\"400\" />"
      ]
    },
    {
      "cell_type": "markdown",
      "metadata": {
        "id": "oLwnVUUddxoE",
        "colab_type": "text"
      },
      "source": [
        " This can be done with the following syntax "
      ]
    },
    {
      "cell_type": "code",
      "metadata": {
        "id": "yDi9dhW3dxoF",
        "colab_type": "code",
        "colab": {
          "base_uri": "https://localhost:8080/",
          "height": 36
        },
        "outputId": "e9e39e3d-f56e-4985-ad4e-895678b92c24"
      },
      "source": [
        "# Access the element on the first row and first and second columns\n",
        "\n",
        "A[0][0:2]"
      ],
      "execution_count": 10,
      "outputs": [
        {
          "output_type": "execute_result",
          "data": {
            "text/plain": [
              "array([11, 12])"
            ]
          },
          "metadata": {
            "tags": []
          },
          "execution_count": 10
        }
      ]
    },
    {
      "cell_type": "markdown",
      "metadata": {
        "id": "o5xDH5j4dxoH",
        "colab_type": "text"
      },
      "source": [
        "Similarly, we can obtain the first two rows of the 3rd column as follows:"
      ]
    },
    {
      "cell_type": "code",
      "metadata": {
        "id": "KYQeTxNVdxoI",
        "colab_type": "code",
        "colab": {
          "base_uri": "https://localhost:8080/",
          "height": 36
        },
        "outputId": "e38d0fd9-48f0-47eb-9549-a8ec6e6221c9"
      },
      "source": [
        "# Access the element on the first and second rows and third column\n",
        "\n",
        "A[0:2, 2]"
      ],
      "execution_count": 11,
      "outputs": [
        {
          "output_type": "execute_result",
          "data": {
            "text/plain": [
              "array([13, 23])"
            ]
          },
          "metadata": {
            "tags": []
          },
          "execution_count": 11
        }
      ]
    },
    {
      "cell_type": "markdown",
      "metadata": {
        "id": "QVRS4hncdxoL",
        "colab_type": "text"
      },
      "source": [
        "Corresponding to the following figure: "
      ]
    },
    {
      "cell_type": "markdown",
      "metadata": {
        "id": "bOADFuc0dxoM",
        "colab_type": "text"
      },
      "source": [
        "<img src=\"https://s3-api.us-geo.objectstorage.softlayer.net/cf-courses-data/CognitiveClass/PY0101EN/Chapter%205/Images/NumTwoTST.png\" width=\"400\" />"
      ]
    },
    {
      "cell_type": "markdown",
      "metadata": {
        "id": "pMt5cu-rdxoM",
        "colab_type": "text"
      },
      "source": [
        "<hr>"
      ]
    },
    {
      "cell_type": "markdown",
      "metadata": {
        "id": "pT9z92SqdxoN",
        "colab_type": "text"
      },
      "source": [
        "<h2 id=\"op\">Basic Operations</h2>"
      ]
    },
    {
      "cell_type": "markdown",
      "metadata": {
        "id": "3tmzVyxGdxoO",
        "colab_type": "text"
      },
      "source": [
        "We can also add arrays. The process is identical to matrix addition. Matrix addition of <code>X</code> and <code>Y</code> is shown in the following figure:"
      ]
    },
    {
      "cell_type": "markdown",
      "metadata": {
        "id": "FaJVLc7-dxoO",
        "colab_type": "text"
      },
      "source": [
        "<img src=\"https://s3-api.us-geo.objectstorage.softlayer.net/cf-courses-data/CognitiveClass/PY0101EN/Chapter%205/Images/NumTwoAdd.png\" width=\"500\" />"
      ]
    },
    {
      "cell_type": "markdown",
      "metadata": {
        "id": "FQVI5x-udxoP",
        "colab_type": "text"
      },
      "source": [
        "The numpy array is given by <code>X</code> and <code>Y</code>"
      ]
    },
    {
      "cell_type": "code",
      "metadata": {
        "id": "CbClJ8ovdxoQ",
        "colab_type": "code",
        "colab": {
          "base_uri": "https://localhost:8080/",
          "height": 55
        },
        "outputId": "f0e67939-0c7b-4c54-fab5-916f0016606e"
      },
      "source": [
        "# Create a numpy array X\n",
        "\n",
        "X = np.array([[1, 0], [0, 1]]) \n",
        "X"
      ],
      "execution_count": 12,
      "outputs": [
        {
          "output_type": "execute_result",
          "data": {
            "text/plain": [
              "array([[1, 0],\n",
              "       [0, 1]])"
            ]
          },
          "metadata": {
            "tags": []
          },
          "execution_count": 12
        }
      ]
    },
    {
      "cell_type": "code",
      "metadata": {
        "id": "JEoYaMSadxoS",
        "colab_type": "code",
        "colab": {
          "base_uri": "https://localhost:8080/",
          "height": 55
        },
        "outputId": "514860a7-2997-4a7d-8f6e-119385af2882"
      },
      "source": [
        "# Create a numpy array Y\n",
        "\n",
        "Y = np.array([[2, 1], [1, 2]]) \n",
        "Y"
      ],
      "execution_count": 13,
      "outputs": [
        {
          "output_type": "execute_result",
          "data": {
            "text/plain": [
              "array([[2, 1],\n",
              "       [1, 2]])"
            ]
          },
          "metadata": {
            "tags": []
          },
          "execution_count": 13
        }
      ]
    },
    {
      "cell_type": "markdown",
      "metadata": {
        "id": "cBE6_Y-YdxoV",
        "colab_type": "text"
      },
      "source": [
        " We can add the numpy arrays as follows."
      ]
    },
    {
      "cell_type": "code",
      "metadata": {
        "id": "DxEJmeiUdxoV",
        "colab_type": "code",
        "colab": {
          "base_uri": "https://localhost:8080/",
          "height": 55
        },
        "outputId": "857c3d62-d752-49ce-eab7-3a7ae05aa605"
      },
      "source": [
        "# Add X and Y\n",
        "\n",
        "Z = X + Y\n",
        "Z"
      ],
      "execution_count": 14,
      "outputs": [
        {
          "output_type": "execute_result",
          "data": {
            "text/plain": [
              "array([[3, 1],\n",
              "       [1, 3]])"
            ]
          },
          "metadata": {
            "tags": []
          },
          "execution_count": 14
        }
      ]
    },
    {
      "cell_type": "markdown",
      "metadata": {
        "id": "UuEgZx8EdxoY",
        "colab_type": "text"
      },
      "source": [
        "Multiplying a numpy array by a scaler is identical to multiplying a matrix by a scaler. If we multiply the matrix <code>Y</code> by the scaler 2, we simply multiply every element in the matrix by 2 as shown in the figure."
      ]
    },
    {
      "cell_type": "markdown",
      "metadata": {
        "id": "riirHILrdxoY",
        "colab_type": "text"
      },
      "source": [
        "<img src=\"https://s3-api.us-geo.objectstorage.softlayer.net/cf-courses-data/CognitiveClass/PY0101EN/Chapter%205/Images/NumTwoDb.png\" width=\"500\" />"
      ]
    },
    {
      "cell_type": "markdown",
      "metadata": {
        "id": "PPVF_h74dxoZ",
        "colab_type": "text"
      },
      "source": [
        "We can perform the same operation in numpy as follows "
      ]
    },
    {
      "cell_type": "code",
      "metadata": {
        "id": "peIynZVudxoZ",
        "colab_type": "code",
        "colab": {
          "base_uri": "https://localhost:8080/",
          "height": 55
        },
        "outputId": "d3b7449e-31bd-4d72-f745-e6ac4c5d8b05"
      },
      "source": [
        "# Create a numpy array Y\n",
        "\n",
        "Y = np.array([[2, 1], [1, 2]]) \n",
        "Y"
      ],
      "execution_count": 15,
      "outputs": [
        {
          "output_type": "execute_result",
          "data": {
            "text/plain": [
              "array([[2, 1],\n",
              "       [1, 2]])"
            ]
          },
          "metadata": {
            "tags": []
          },
          "execution_count": 15
        }
      ]
    },
    {
      "cell_type": "code",
      "metadata": {
        "id": "vd41ubO5dxod",
        "colab_type": "code",
        "colab": {
          "base_uri": "https://localhost:8080/",
          "height": 55
        },
        "outputId": "82799e9b-bbf4-496e-813e-773e829fcfcc"
      },
      "source": [
        "# Multiply Y with 2\n",
        "\n",
        "Z = 2 * Y\n",
        "Z"
      ],
      "execution_count": 16,
      "outputs": [
        {
          "output_type": "execute_result",
          "data": {
            "text/plain": [
              "array([[4, 2],\n",
              "       [2, 4]])"
            ]
          },
          "metadata": {
            "tags": []
          },
          "execution_count": 16
        }
      ]
    },
    {
      "cell_type": "markdown",
      "metadata": {
        "id": "i-RtJ3R8dxog",
        "colab_type": "text"
      },
      "source": [
        "Multiplication of two arrays corresponds to an element-wise product or Hadamard product. Consider matrix <code>X</code> and <code>Y</code>. The Hadamard product corresponds to multiplying each of the elements in the same position, i.e. multiplying elements contained in the same color boxes together. The result is a new matrix that is the same size as matrix <code>Y</code> or <code>X</code>, as shown in the following figure."
      ]
    },
    {
      "cell_type": "markdown",
      "metadata": {
        "id": "Y7aKFCfWdxoh",
        "colab_type": "text"
      },
      "source": [
        "<img src=\"https://s3-api.us-geo.objectstorage.softlayer.net/cf-courses-data/CognitiveClass/PY0101EN/Chapter%205/Images/NumTwoMul.png\" width=\"500\" />"
      ]
    },
    {
      "cell_type": "markdown",
      "metadata": {
        "id": "MZmsi7iXdxoh",
        "colab_type": "text"
      },
      "source": [
        "We can perform element-wise product of the array <code>X</code> and <code>Y</code> as follows:"
      ]
    },
    {
      "cell_type": "code",
      "metadata": {
        "id": "q3JYyak9dxoi",
        "colab_type": "code",
        "colab": {
          "base_uri": "https://localhost:8080/",
          "height": 55
        },
        "outputId": "539394ad-193f-499d-d563-01b31b199261"
      },
      "source": [
        "# Create a numpy array Y\n",
        "\n",
        "Y = np.array([[2, 1], [1, 2]]) \n",
        "Y"
      ],
      "execution_count": 17,
      "outputs": [
        {
          "output_type": "execute_result",
          "data": {
            "text/plain": [
              "array([[2, 1],\n",
              "       [1, 2]])"
            ]
          },
          "metadata": {
            "tags": []
          },
          "execution_count": 17
        }
      ]
    },
    {
      "cell_type": "code",
      "metadata": {
        "id": "Tm_uGXucdxok",
        "colab_type": "code",
        "colab": {
          "base_uri": "https://localhost:8080/",
          "height": 55
        },
        "outputId": "43a745bf-96f4-4000-c276-1e1ca7bc14fa"
      },
      "source": [
        "# Create a numpy array X\n",
        "\n",
        "X = np.array([[1, 0], [0, 1]]) \n",
        "X"
      ],
      "execution_count": 18,
      "outputs": [
        {
          "output_type": "execute_result",
          "data": {
            "text/plain": [
              "array([[1, 0],\n",
              "       [0, 1]])"
            ]
          },
          "metadata": {
            "tags": []
          },
          "execution_count": 18
        }
      ]
    },
    {
      "cell_type": "code",
      "metadata": {
        "id": "0ahhZkBRdxou",
        "colab_type": "code",
        "colab": {
          "base_uri": "https://localhost:8080/",
          "height": 55
        },
        "outputId": "6629c286-fee7-495f-9b38-1979ac91ea5d"
      },
      "source": [
        "# Multiply X with Y\n",
        "\n",
        "Z = X * Y\n",
        "Z"
      ],
      "execution_count": 19,
      "outputs": [
        {
          "output_type": "execute_result",
          "data": {
            "text/plain": [
              "array([[2, 0],\n",
              "       [0, 2]])"
            ]
          },
          "metadata": {
            "tags": []
          },
          "execution_count": 19
        }
      ]
    },
    {
      "cell_type": "markdown",
      "metadata": {
        "id": "JTP6u93adxow",
        "colab_type": "text"
      },
      "source": [
        "We can also perform matrix multiplication with the numpy arrays <code>A</code> and <code>B</code> as follows:"
      ]
    },
    {
      "cell_type": "markdown",
      "metadata": {
        "id": "nbyqin1wdxox",
        "colab_type": "text"
      },
      "source": [
        "First, we define matrix <code>A</code> and <code>B</code>:"
      ]
    },
    {
      "cell_type": "code",
      "metadata": {
        "id": "5jU0axPidxox",
        "colab_type": "code",
        "colab": {
          "base_uri": "https://localhost:8080/",
          "height": 55
        },
        "outputId": "f2238cbf-2654-4d62-f3ca-87123503fa28"
      },
      "source": [
        "# Create a matrix A\n",
        "\n",
        "A = np.array([[0, 1, 1], [1, 0, 1]])\n",
        "A"
      ],
      "execution_count": 20,
      "outputs": [
        {
          "output_type": "execute_result",
          "data": {
            "text/plain": [
              "array([[0, 1, 1],\n",
              "       [1, 0, 1]])"
            ]
          },
          "metadata": {
            "tags": []
          },
          "execution_count": 20
        }
      ]
    },
    {
      "cell_type": "code",
      "metadata": {
        "id": "qZ-AwUoHdxoz",
        "colab_type": "code",
        "colab": {
          "base_uri": "https://localhost:8080/",
          "height": 74
        },
        "outputId": "b7d169f0-fe48-4022-8cc6-807ce3f90488"
      },
      "source": [
        "# Create a matrix B\n",
        "\n",
        "B = np.array([[1, 1], [1, 1], [-1, 1]])\n",
        "B"
      ],
      "execution_count": 21,
      "outputs": [
        {
          "output_type": "execute_result",
          "data": {
            "text/plain": [
              "array([[ 1,  1],\n",
              "       [ 1,  1],\n",
              "       [-1,  1]])"
            ]
          },
          "metadata": {
            "tags": []
          },
          "execution_count": 21
        }
      ]
    },
    {
      "cell_type": "markdown",
      "metadata": {
        "id": "yL1PRZMCdxo1",
        "colab_type": "text"
      },
      "source": [
        "We use the numpy function <code>dot</code> to multiply the arrays together."
      ]
    },
    {
      "cell_type": "code",
      "metadata": {
        "id": "6EEYtBlbdxo2",
        "colab_type": "code",
        "colab": {
          "base_uri": "https://localhost:8080/",
          "height": 55
        },
        "outputId": "a451d032-c72d-4672-c458-8fa399eafa1d"
      },
      "source": [
        "# Calculate the dot product\n",
        "\n",
        "Z = np.dot(A,B)\n",
        "Z"
      ],
      "execution_count": 22,
      "outputs": [
        {
          "output_type": "execute_result",
          "data": {
            "text/plain": [
              "array([[0, 2],\n",
              "       [0, 2]])"
            ]
          },
          "metadata": {
            "tags": []
          },
          "execution_count": 22
        }
      ]
    },
    {
      "cell_type": "code",
      "metadata": {
        "id": "rHws4dGJdxo5",
        "colab_type": "code",
        "colab": {
          "base_uri": "https://localhost:8080/",
          "height": 55
        },
        "outputId": "732ee17f-c109-48e0-aa71-77462024603c"
      },
      "source": [
        "# Calculate the sine of Z\n",
        "\n",
        "np.sin(Z)"
      ],
      "execution_count": 23,
      "outputs": [
        {
          "output_type": "execute_result",
          "data": {
            "text/plain": [
              "array([[0.        , 0.90929743],\n",
              "       [0.        , 0.90929743]])"
            ]
          },
          "metadata": {
            "tags": []
          },
          "execution_count": 23
        }
      ]
    },
    {
      "cell_type": "markdown",
      "metadata": {
        "id": "ZgK5O_hodxo-",
        "colab_type": "text"
      },
      "source": [
        "We use the numpy attribute <code>T</code> to calculate the transposed matrix"
      ]
    },
    {
      "cell_type": "code",
      "metadata": {
        "id": "U9jOOJ-Cdxo-",
        "colab_type": "code",
        "colab": {
          "base_uri": "https://localhost:8080/",
          "height": 74
        },
        "outputId": "f16834c7-cc1a-4721-83b4-0a3d6523cf2b"
      },
      "source": [
        "# Create a matrix C\n",
        "\n",
        "C = np.array([[1,1],[2,2],[3,3]])\n",
        "C"
      ],
      "execution_count": 24,
      "outputs": [
        {
          "output_type": "execute_result",
          "data": {
            "text/plain": [
              "array([[1, 1],\n",
              "       [2, 2],\n",
              "       [3, 3]])"
            ]
          },
          "metadata": {
            "tags": []
          },
          "execution_count": 24
        }
      ]
    },
    {
      "cell_type": "code",
      "metadata": {
        "id": "hNOS63z7dxpC",
        "colab_type": "code",
        "colab": {
          "base_uri": "https://localhost:8080/",
          "height": 55
        },
        "outputId": "ce7a72e6-2d2f-4b6c-9f59-aebd7fd63470"
      },
      "source": [
        "# Get the transposed of C\n",
        "\n",
        "C.T"
      ],
      "execution_count": 25,
      "outputs": [
        {
          "output_type": "execute_result",
          "data": {
            "text/plain": [
              "array([[1, 2, 3],\n",
              "       [1, 2, 3]])"
            ]
          },
          "metadata": {
            "tags": []
          },
          "execution_count": 25
        }
      ]
    },
    {
      "cell_type": "markdown",
      "metadata": {
        "id": "kpfiNT_HdxpF",
        "colab_type": "text"
      },
      "source": [
        "<hr>\n",
        "<h2>The last exercise!</h2>\n",
        "<p>Congratulations, you have completed your first lesson and hands-on lab in Python. However, there is one more thing you need to do. The Data Science community encourages sharing work. The best way to share and showcase your work is to share it on GitHub. By sharing your notebook on GitHub you are not only building your reputation with fellow data scientists, but you can also show it off when applying for a job. Even though this was your first piece of work, it is never too early to start building good habits. So, please read and follow <a href=\"https://cognitiveclass.ai/blog/data-scientists-stand-out-by-sharing-your-notebooks/\" target=\"_blank\">this article</a> to learn how to share your work.\n",
        "<hr>"
      ]
    },
    {
      "cell_type": "markdown",
      "metadata": {
        "id": "kB-1hPWEdxpG",
        "colab_type": "text"
      },
      "source": [
        "<div class=\"alert alert-block alert-info\" style=\"margin-top: 20px\">\n",
        "<h2>Get IBM Watson Studio free of charge!</h2>\n",
        "    <p><a href=\"https://cocl.us/bottemNotebooksPython101Coursera\"><img src=\"https://s3-api.us-geo.objectstorage.softlayer.net/cf-courses-data/CognitiveClass/PY0101EN/Ad/BottomAd.png\" width=\"750\" align=\"center\"></a></p>\n",
        "</div>"
      ]
    },
    {
      "cell_type": "markdown",
      "metadata": {
        "id": "UxB1NnHKdxpG",
        "colab_type": "text"
      },
      "source": [
        "<h3>About the Authors:</h3>  \n",
        "<p><a href=\"https://www.linkedin.com/in/joseph-s-50398b136/\" target=\"_blank\">Joseph Santarcangelo</a> is a Data Scientist at IBM, and holds a PhD in Electrical Engineering. His research focused on using Machine Learning, Signal Processing, and Computer Vision to determine how videos impact human cognition. Joseph has been working for IBM since he completed his PhD.</p>"
      ]
    },
    {
      "cell_type": "markdown",
      "metadata": {
        "id": "9x2xOThIdxpH",
        "colab_type": "text"
      },
      "source": [
        "Other contributors: <a href=\"www.linkedin.com/in/jiahui-mavis-zhou-a4537814a\">Mavis Zhou</a>"
      ]
    },
    {
      "cell_type": "markdown",
      "metadata": {
        "id": "hx-r9xU7dxpI",
        "colab_type": "text"
      },
      "source": [
        "<hr>"
      ]
    },
    {
      "cell_type": "markdown",
      "metadata": {
        "id": "v1pcblA_dxpI",
        "colab_type": "text"
      },
      "source": [
        "<p>Copyright &copy; 2018 IBM Developer Skills Network. This notebook and its source code are released under the terms of the <a href=\"https://cognitiveclass.ai/mit-license/\">MIT License</a>.</p>"
      ]
    }
  ]
}